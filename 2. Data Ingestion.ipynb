{
 "cells": [
  {
   "cell_type": "code",
   "execution_count": 3,
   "id": "d597401a-5b2e-436c-ba8b-3cea53f9acf4",
   "metadata": {},
   "outputs": [],
   "source": [
    "# importing libraries/\n",
    "import os\n",
    "import pandas as pd\n",
    "import requests\n",
    "import schedule\n",
    "import time\n",
    "import logging\n",
    "from datetime import datetime\n",
    "import boto3\n",
    "from botocore.exceptions import NoCredentialsError, PartialCredentialsError\n",
    "from kaggle.api.kaggle_api_extended import KaggleApi\n",
    "\n"
   ]
  },
  {
   "cell_type": "code",
   "execution_count": 1,
   "id": "3e4e8b0b-c67b-4b11-b480-1595cf21d8e3",
   "metadata": {},
   "outputs": [
    {
     "name": "stdout",
     "output_type": "stream",
     "text": [
      "2025-03-08 21:03:57 dmml-bank-churn-data\n"
     ]
    },
    {
     "name": "stderr",
     "output_type": "stream",
     "text": [
      "File association not found for extension .py\n"
     ]
    }
   ],
   "source": [
    "!aws s3 ls\n"
   ]
  },
  {
   "cell_type": "code",
   "execution_count": 2,
   "id": "25d2872a-d011-4b1c-9b32-efdb6e6f6248",
   "metadata": {},
   "outputs": [
    {
     "name": "stderr",
     "output_type": "stream",
     "text": [
      "ERROR: failed to initiate DVC - '.dvc' exists. Use `-f` to force.\n"
     ]
    }
   ],
   "source": [
    "# Initialize DVC in the project (this creates a .dvc folder for tracking data files)\n",
    "# !dvc init\n"
   ]
  },
  {
   "cell_type": "markdown",
   "id": "88b73559-8636-424e-9837-48e717202f4f",
   "metadata": {},
   "source": [
    "#### Setting Kaggle API "
   ]
  },
  {
   "cell_type": "code",
   "execution_count": 4,
   "id": "873afce4-05d7-4c70-b42d-26f7938604dd",
   "metadata": {},
   "outputs": [
    {
     "name": "stdout",
     "output_type": "stream",
     "text": [
      "ref                                                               title                                              size  lastUpdated          downloadCount  voteCount  usabilityRating  \n",
      "----------------------------------------------------------------  ------------------------------------------------  -----  -------------------  -------------  ---------  ---------------  \n",
      "b'atharvasoundankar/chocolate-sales                                 Chocolate Sales Data \\xf0\\x9f\\x93\\x8a\\xf0\\x9f\\x8d\\xab                            63KB  2025-03-07 05:44:03           2521         35  1.0              '\n",
      "abdulmalik1518/mobiles-dataset-2025                               Mobiles Dataset (2025)                             20KB  2025-02-18 06:50:24           9332        164  1.0              \n",
      "ignacioazua/life-expectancy                                       Life Expectancy                                     3KB  2025-03-04 06:16:35            961         22  1.0              \n",
      "mahmoudelhemaly/students-grading-dataset                          Student Performance & Behavior Dataset            508KB  2025-02-17 17:38:46           6933        114  1.0              \n",
      "asinow/car-price-dataset                                          Car Price Dataset                                 135KB  2025-01-26 19:53:28          26594        417  1.0              \n",
      "asinow/diabetes-dataset                                           Diabetes Dataset                                  224KB  2025-02-20 08:38:56           5093         80  1.0              \n",
      "vinothkannaece/sales-dataset                                      sales dataset                                      27KB  2025-02-18 05:13:42           5805         80  1.0              \n",
      "willianoliveiragibin/odi-cricket-data                             ODI Cricket Data                                   55KB  2025-02-23 22:17:09           1289         24  1.0              \n",
      "sujalsuthar/food-delivery-order-history-data                      Food Delivery Order History Data                    2MB  2025-02-14 02:52:38           1247         25  1.0              \n",
      "smayanj/netflix-users-database                                    Netflix Users Database                            354KB  2025-03-08 12:08:09            336         28  1.0              \n",
      "ankushpanday2/oral-cancer-prediction-dataset                      Oral Cancer Prediction Dataset                      2MB  2025-03-06 14:13:24            588         23  1.0              \n",
      "smayanj/e-commerce-transactions-dataset                           E-Commerce Transactions Dataset                   749KB  2025-03-08 12:20:45            491         34  1.0              \n",
      "samayashar/startup-growth-and-funding-trends                      Startup Growth & Funding Trends                    12KB  2025-02-25 18:00:32            572         23  1.0              \n",
      "amrmaree/student-performance-prediction                           Student Performance Prediction                     11KB  2025-03-03 15:46:10           1248         26  0.9411765        \n",
      "adilshamim8/student-performance-and-learning-style                Student Performance & Learning Style              148KB  2025-02-12 06:12:07           3130         51  1.0              \n",
      "anandshaw2001/video-game-sales                                    Video Game Sales                                  381KB  2025-02-23 05:16:04            947         39  1.0              \n",
      "meharshanali/walmart-stocks-data-2025                             Walmart Stocks Data 2025                          456KB  2025-02-23 12:19:53           1230         27  1.0              \n",
      "b'atharvasoundankar/futuristic-smart-city-citizen-activity-dataset  \\xf0\\x9f\\x93\\x8a Futuristic Smart City Citizen Activity Dataset   23KB  2025-03-06 04:58:22            567         29  1.0              '\n",
      "willianoliveiragibin/netflix-interactive                          Netflix interactive                               441KB  2025-02-15 17:07:34           1606         33  1.0              \n",
      "samikshadalvi/lungs-diseases-dataset                              Lungs Diseases Dataset                             40KB  2025-02-25 01:51:36           1766         37  1.0              \n"
     ]
    }
   ],
   "source": [
    "# Set Kaggle API credentials\n",
    "os.environ[\"KAGGLE_CONFIG_DIR\"] = \"C:\\\\Users\\\\LENOVO\\\\.kaggle\"\n",
    "\n",
    "# Verify Kaggle setup\n",
    "!kaggle datasets list\n"
   ]
  },
  {
   "cell_type": "markdown",
   "id": "9427e924-0c1e-4593-b851-73d81df90b43",
   "metadata": {},
   "source": [
    "#### Fetching data from Two sources\n",
    "1. Kaggle Dataset\n",
    "2. Rest API\n",
    "3. Generating log report\n"
   ]
  },
  {
   "cell_type": "code",
   "execution_count": 5,
   "id": "08288c1d-c641-4911-9827-beea0ea5d426",
   "metadata": {},
   "outputs": [
    {
     "name": "stdout",
     "output_type": "stream",
     "text": [
      "Dataset URL: https://www.kaggle.com/datasets/rangalamahesh/bank-churn\n"
     ]
    }
   ],
   "source": [
    "#Only fetching the data\n",
    "def setup_logging():\n",
    "    \"\"\"Sets up logging for data ingestion.\"\"\"\n",
    "    log_file = \"logs/data_ingestion.log\"\n",
    "    os.makedirs(os.path.dirname(log_file), exist_ok=True)\n",
    "    logging.basicConfig(\n",
    "        filename=log_file,\n",
    "        level=logging.INFO,\n",
    "        format=\"%(asctime)s - %(levelname)s - %(message)s\",\n",
    "    )\n",
    "\n",
    "def fetch_kaggle_data():\n",
    "    \"\"\"Downloads data from Kaggle and saves it locally.\"\"\"\n",
    "    kaggle_dataset = \"rangalamahesh/bank-churn\"\n",
    "    download_path = \"raw_data/\"\n",
    "    os.makedirs(download_path, exist_ok=True)\n",
    "    \n",
    "    try:\n",
    "        api = KaggleApi()\n",
    "        api.authenticate()\n",
    "        api.dataset_download_files(kaggle_dataset, path=download_path, unzip=True)\n",
    "        \n",
    "        # Locate and rename CSV file\n",
    "        for file in os.listdir(download_path):\n",
    "            if file.endswith(\".csv\"):\n",
    "                os.rename(os.path.join(download_path, file), os.path.join(download_path, \"kaggle_data.csv\"))\n",
    "                logging.info(\"Successfully downloaded Kaggle dataset.\")\n",
    "                return\n",
    "        \n",
    "        logging.error(\"Kaggle dataset downloaded but no CSV file found.\")\n",
    "    except Exception as e:\n",
    "        logging.error(f\"Failed to download Kaggle dataset: {e}\")\n",
    "\n",
    "def fetch_api_data():\n",
    "    \"\"\"Fetches data from API and saves it as CSV locally.\"\"\"\n",
    "    api_url = \"https://bank-customer-churn-data.onrender.com/data\"\n",
    "    file_path = \"raw_data/api_data.csv\"\n",
    "    os.makedirs(\"raw_data\", exist_ok=True)\n",
    "    \n",
    "    try:\n",
    "        response = requests.get(api_url)\n",
    "        response.raise_for_status()\n",
    "        \n",
    "        data = response.json()\n",
    "        df = pd.DataFrame(data)\n",
    "        df.to_csv(file_path, index=False)\n",
    "        \n",
    "        logging.info(\"Successfully fetched and saved API data.\")\n",
    "    except requests.RequestException as e:\n",
    "        logging.error(f\"Failed to fetch API data: {e}\")\n",
    "\n",
    "def main():\n",
    "    \"\"\"Main function to execute the ingestion process.\"\"\"\n",
    "    logging.info(\"Starting data ingestion...\")\n",
    "    fetch_kaggle_data()\n",
    "    fetch_api_data()\n",
    "    logging.info(\"Data ingestion completed successfully.\")\n",
    "\n",
    "if __name__ == \"__main__\":\n",
    "    setup_logging()\n",
    "    main()\n"
   ]
  }
 ],
 "metadata": {
  "kernelspec": {
   "display_name": "Python 3 (ipykernel)",
   "language": "python",
   "name": "python3"
  },
  "language_info": {
   "codemirror_mode": {
    "name": "ipython",
    "version": 3
   },
   "file_extension": ".py",
   "mimetype": "text/x-python",
   "name": "python",
   "nbconvert_exporter": "python",
   "pygments_lexer": "ipython3",
   "version": "3.12.7"
  }
 },
 "nbformat": 4,
 "nbformat_minor": 5
}
